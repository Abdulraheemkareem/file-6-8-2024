{
 "cells": [
  {
   "cell_type": "code",
   "execution_count": 2,
   "metadata": {},
   "outputs": [
    {
     "name": "stdout",
     "output_type": "stream",
     "text": [
      "[[0, 1, 2, 3, 4], [0, 1, 2, 3, 4], [0, 1, 2, 3, 4], [0, 1, 2, 3, 4], [0, 1, 2, 3, 4]]\n"
     ]
    }
   ],
   "source": [
    "matrix=[]\n",
    "for i in range(5):\n",
    "    matrix.append([])\n",
    "    for j in range(5):\n",
    "        matrix[i].append(j)\n",
    "print(matrix)"
   ]
  },
  {
   "cell_type": "code",
   "execution_count": 8,
   "metadata": {},
   "outputs": [
    {
     "name": "stdout",
     "output_type": "stream",
     "text": [
      "[1, 3, 5, 7, 9]\n"
     ]
    }
   ],
   "source": [
    "matrix=[[1,2,3,],[4,5,6,],[7,8,9],]\n",
    "odd_number=[]\n",
    "for row in  matrix:\n",
    "    for element in row:\n",
    "        if element % 2!=0:\n",
    "          odd_number.append(element)\n",
    "print(odd_number)"
   ]
  },
  {
   "cell_type": "code",
   "execution_count": null,
   "metadata": {},
   "outputs": [],
   "source": [
    "https://www.geeksforgeeks.org/nested-list-comprehensions-in-python/?ref=lbp"
   ]
  },
  {
   "cell_type": "code",
   "execution_count": 10,
   "metadata": {},
   "outputs": [
    {
     "name": "stdout",
     "output_type": "stream",
     "text": [
      "[1, 2, 3, 4, 5, 6, 7, 8, 9]\n"
     ]
    }
   ],
   "source": [
    "matrix=[[1,2,3,],[4,5],[6,7,8,9],]\n",
    "flatten_matrix=[]\n",
    "for sublist in matrix:\n",
    "    for val in sublist:\n",
    "        flatten_matrix.append(val)\n",
    "print(flatten_matrix)"
   ]
  },
  {
   "cell_type": "code",
   "execution_count": 11,
   "metadata": {},
   "outputs": [
    {
     "name": "stdout",
     "output_type": "stream",
     "text": [
      "[1, 2, 3, 4, 5, 6, 7, 8, 9]\n"
     ]
    }
   ],
   "source": [
    "matrix=[[1,2,3,],[4,5],[6,7,8,9],]\n",
    "\n",
    "flatten_matrix=[val for sublist in matrix for val in sublist]\n",
    "print(flatten_matrix)"
   ]
  },
  {
   "cell_type": "code",
   "execution_count": 60,
   "metadata": {},
   "outputs": [
    {
     "name": "stdout",
     "output_type": "stream",
     "text": [
      "[['Apple', 'Bamana', 'Cherry'], ['Date', 'Fig', 'Grape'], ['Kiwi', 'Lemon', 'Mango']]\n"
     ]
    }
   ],
   "source": [
    "matrix=[['apple','Bamana','Cherry'], \n",
    "        ['Date','Fig','Grape'],\n",
    "        ['Kiwi','Lemon','Mango']]\n",
    "modified_matrix=[]\n",
    "for row in matrix:\n",
    "    modified_row=[]\n",
    "    for fruit in  row:\n",
    "        modified_row.append(fruit.capitalize())\n",
    "    modified_matrix.append(modified_row)\n",
    "print(modified_matrix)"
   ]
  },
  {
   "cell_type": "code",
   "execution_count": 65,
   "metadata": {},
   "outputs": [
    {
     "name": "stdout",
     "output_type": "stream",
     "text": [
      "The original list is : [[5, 6], [4, 7, 10], [12], [9, 11]]\n",
      "The converted container : [(5,), (6,), (4,), (7,), (10,), (12,), (9,), (11,)]\n"
     ]
    }
   ],
   "source": [
    "# initializing list\n",
    "test_list = [[5, 6], [4, 7, 10], [12], [9, 11]]\n",
    "\n",
    "# printing original list\n",
    "print(\"The original list is : \" + str(test_list))\n",
    "\n",
    "# Convert Nested List to 1 value Tuple\n",
    "# Using list comprehension\n",
    "res = [(ele, ) for sub in test_list for ele in sub]\n",
    "\n",
    "# printing result\n",
    "print(\"The converted container : \" + str(res))\n"
   ]
  },
  {
   "cell_type": "code",
   "execution_count": 66,
   "metadata": {},
   "outputs": [
    {
     "name": "stdout",
     "output_type": "stream",
     "text": [
      "[[3, 2], [4, 4, 3, 2], [44], [7, 8]]\n",
      "[(3,), (2,), (4,), (4,), (3,), (2,), (44,), (7,), (8,)]\n"
     ]
    }
   ],
   "source": [
    "test_list=[[3,2,],[4,4,3,2,],[44],[7,8]]\n",
    "print(test_list)\n",
    "res= [(ele,) for sub in test_list for ele in sub]\n",
    "print(res)"
   ]
  },
  {
   "cell_type": "code",
   "execution_count": 108,
   "metadata": {},
   "outputs": [
    {
     "name": "stdout",
     "output_type": "stream",
     "text": [
      "[(11,), (3,), (3,), (5,), (7,), (8,), (9,), (3,), (5,), (2,), (9,), (11,)]\n"
     ]
    }
   ],
   "source": [
    "test_list=[[11,3,],[3,5,7,8],[9,3],[5,2,9,11]]\n",
    "# print(f\"The original list is : {test_list}\")\n",
    "print(res)\n",
    "\n",
    "# l=[(mark) for list in test_list for mark in list]\n",
    "# print(res)"
   ]
  },
  {
   "cell_type": "code",
   "execution_count": 128,
   "metadata": {},
   "outputs": [
    {
     "name": "stdout",
     "output_type": "stream",
     "text": [
      "The original list is : [[5, 6], [4, 7, 10], [12], [9, 11]]\n",
      "The converted container : [(5,), (6,), (4,), (7,), (10,), (12,), (9,), (11,)]\n"
     ]
    }
   ],
   "source": [
    "# initializing list\n",
    "test_list = [[5, 6], [4, 7, 10], [12], [9, 11]]\n",
    "\n",
    "# printing original list\n",
    "print(\"The original list is : \" + str(test_list))\n",
    "\n",
    "# Convert Nested List to 1 value Tuple\n",
    "x = []\n",
    "res = []\n",
    "for i in test_list:\n",
    "\tx.extend(i)\n",
    "for i in x:\n",
    "\tres.append((i,))\n",
    "# printing result\n",
    "print(\"The converted container : \" + str(res))\n"
   ]
  },
  {
   "cell_type": "code",
   "execution_count": 146,
   "metadata": {},
   "outputs": [
    {
     "name": "stdout",
     "output_type": "stream",
     "text": [
      "The original list is :[[5, 6], [4, 7, 10], [12], [9, 11]]\n",
      "[(5,), (6,), (5,), (6,), (4,), (7,), (10,), (5,), (6,), (4,), (7,), (10,), (12,), (5,), (6,), (4,), (7,), (10,), (12,), (9,), (11,)]\n"
     ]
    }
   ],
   "source": [
    "test_list = [ [5, 6],  [4, 7, 10],  [12],  [9, 11]]\n",
    "print(\"The original list is :\"+str (test_list))\n",
    "x =[]\n",
    "res =[]\n",
    "for i in test_list:\n",
    "    x.extend(i)\n",
    "    for j in x:\n",
    "        res.append((j,))\n",
    "print(res )"
   ]
  },
  {
   "cell_type": "code",
   "execution_count": 2,
   "metadata": {},
   "outputs": [
    {
     "name": "stdout",
     "output_type": "stream",
     "text": [
      "The original list 1 : [[1, 2], [3, 4], [5, 6]]\n",
      "The original list 2 : [[3, 4], [5, 7], [1, 2]]\n",
      "The intersection of two lists is : [[1, 2], [3, 4]]\n"
     ]
    }
   ],
   "source": [
    "# Python 3 code to demonstrate \n",
    "# find intersection of nested list\n",
    "# using naive method\n",
    "\n",
    "# initializing lists\n",
    "test_list1 = [ [1, 2], [3, 4], [5, 6] ]\n",
    "test_list2 = [ [3, 4], [5, 7], [1, 2] ]\n",
    "\n",
    "# printing both lists \n",
    "print (\"The original list 1 : \" + str(test_list1))\n",
    "print (\"The original list 2 : \" + str(test_list2))\n",
    "\n",
    "# using naive method \n",
    "# to get list intersection\n",
    "res_list = []\n",
    "for i in test_list1:\n",
    "\tif i in test_list2:\n",
    "\t\tres_list.append(i)\n",
    "\n",
    "# printing the intersection \n",
    "print (\"The intersection of two lists is : \" + str(res_list))\n"
   ]
  },
  {
   "cell_type": "code",
   "execution_count": 3,
   "metadata": {},
   "outputs": [
    {
     "name": "stdout",
     "output_type": "stream",
     "text": [
      "the original list is : [[11, 33, 33], [33, 55], [55, 6], [55]]\n",
      "the original list is : [[55, 22, 44], [66, 88], [8, 9], [33]]\n",
      "[[55, 22, 44], [66, 88], [8, 9], [33], [55, 22, 44], [66, 88], [8, 9], [33], [55, 22, 44], [66, 88], [8, 9], [33], [55, 22, 44], [66, 88], [8, 9], [33]]\n"
     ]
    }
   ],
   "source": [
    "test_list1=[[11,33,33],[33,55],[55,6],[55]]\n",
    "test_list2=[[55,22,44] ,[66,88] ,[8,9],[33]]\n",
    "print('the original list is :',test_list1)\n",
    "print('the original list is :',test_list2)\n",
    "res_list=[]\n",
    "for i in test_list1:\n",
    "    for i in test_list2:\n",
    "        res_list.append(i)\n",
    "print(res_list)\n",
    "        "
   ]
  }
 ],
 "metadata": {
  "kernelspec": {
   "display_name": "Python 3",
   "language": "python",
   "name": "python3"
  },
  "language_info": {
   "codemirror_mode": {
    "name": "ipython",
    "version": 3
   },
   "file_extension": ".py",
   "mimetype": "text/x-python",
   "name": "python",
   "nbconvert_exporter": "python",
   "pygments_lexer": "ipython3",
   "version": "3.12.4"
  }
 },
 "nbformat": 4,
 "nbformat_minor": 2
}
