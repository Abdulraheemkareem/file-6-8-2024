{
 "cells": [
  {
   "cell_type": "code",
   "execution_count": 1,
   "metadata": {},
   "outputs": [
    {
     "name": "stdout",
     "output_type": "stream",
     "text": [
      "{'name': 'asif', 'age': '33', 'father-name': 'bilal', 'city': 'lahore'}\n"
     ]
    }
   ],
   "source": [
    "dictionary={\"name\":'asif',\"age\":'33',\"father-name\":\"bilal\",\"city\":'lahore'}\n",
    "print(dictionary)"
   ]
  },
  {
   "cell_type": "code",
   "execution_count": 2,
   "metadata": {},
   "outputs": [
    {
     "name": "stdout",
     "output_type": "stream",
     "text": [
      "asif\n"
     ]
    }
   ],
   "source": [
    "dictionary={\"name\":'asif',\"age\":'33',\"father-name\":\"bilal\",\"city\":'lahore'}\n",
    "print(dictionary['name'])"
   ]
  },
  {
   "cell_type": "code",
   "execution_count": 3,
   "metadata": {},
   "outputs": [
    {
     "name": "stdout",
     "output_type": "stream",
     "text": [
      "{'name': 'asif', 'age': '33', 'father-name': 'bilal', 'city': 'lahore', 'post_office': 'karachi'}\n"
     ]
    }
   ],
   "source": [
    "dictionary={\"name\":'asif',\"age\":'33',\"father-name\":\"bilal\",\"city\":'lahore'}\n",
    "dictionary['post_office']='karachi'\n",
    "print(dictionary)"
   ]
  },
  {
   "cell_type": "code",
   "execution_count": 5,
   "metadata": {},
   "outputs": [
    {
     "name": "stdout",
     "output_type": "stream",
     "text": [
      "{'city1': 'pishawer', 'city2': 'lahore', 'city3': 'karachi'}\n",
      "pishawer\n"
     ]
    }
   ],
   "source": [
    "dictionary={\"name\":'asif',\"age\":'33',\"father-name\":\"bilal\",\"city\":'lahore','pakistan':{\"city1\":\"pishawer\",\"city2\":\"lahore\",\"city3\":\"karachi\"}}\n",
    "print(dictionary['pakistan'])\n",
    "print(dictionary['pakistan']['city1'])\n"
   ]
  },
  {
   "cell_type": "code",
   "execution_count": 6,
   "metadata": {},
   "outputs": [
    {
     "name": "stdout",
     "output_type": "stream",
     "text": [
      "{'name': 'asif', 'age': '33', 'father-name': 'bilal', 'city': 'lahore', 'pakistan': {'city1': 'pishawer', 'city2': 'lahore', 'city3': 'karachi', 'Location': 'dera ismail hkan'}}\n"
     ]
    }
   ],
   "source": [
    "dictionary={\"name\":'asif',\"age\":'33',\"father-name\":\"bilal\",\"city\":'lahore','pakistan':{\"city1\":\"pishawer\",\"city2\":\"lahore\",\"city3\":\"karachi\"}}\n",
    "dictionary['pakistan']['Location']='dera ismail hkan'\n",
    "print(dictionary)"
   ]
  },
  {
   "cell_type": "code",
   "execution_count": 20,
   "metadata": {},
   "outputs": [
    {
     "name": "stdout",
     "output_type": "stream",
     "text": [
      "{'name': 'asif', 'age': '33', 'father-name': 'bilal', 'city': 'lahore'}\n"
     ]
    }
   ],
   "source": [
    "dictionary={\"name\":'asif',\"age\":'33',\"father-name\":\"bilal\",\"city\":'lahore','pakistan':{\"city1\":\"pishawer\",\"city2\":\"lahore\",\"city3\":\"karachi\"}}\n",
    "del dictionary['pakistan']\n",
    "print(dictionary)"
   ]
  },
  {
   "cell_type": "code",
   "execution_count": 24,
   "metadata": {},
   "outputs": [
    {
     "name": "stdout",
     "output_type": "stream",
     "text": [
      "['name', 'age', 'father-name', 'city', 'pakistan']\n"
     ]
    }
   ],
   "source": [
    "dictionary={\"name\":'asif',\"age\":'33',\"father-name\":\"bilal\",\"city\":'lahore','pakistan':{\"city1\":\"pishawer\",\"city2\":\"lahore\",\"city3\":\"karachi\"}}\n",
    "keys=list(dictionary.keys())\n",
    "print(keys)\n"
   ]
  },
  {
   "cell_type": "code",
   "execution_count": 26,
   "metadata": {},
   "outputs": [
    {
     "name": "stdout",
     "output_type": "stream",
     "text": [
      "['asif', '33', 'bilal', 'lahore', {'city1': 'pishawer', 'city2': 'lahore', 'city3': 'karachi'}]\n"
     ]
    }
   ],
   "source": [
    "\n",
    "dictionary={\"name\":'asif',\"age\":'33',\"father-name\":\"bilal\",\"city\":'lahore','pakistan':{\"city1\":\"pishawer\",\"city2\":\"lahore\",\"city3\":\"karachi\"}}\n",
    "values=list(dictionary.values())  \n",
    "print(values)"
   ]
  },
  {
   "cell_type": "code",
   "execution_count": 27,
   "metadata": {},
   "outputs": [
    {
     "name": "stdout",
     "output_type": "stream",
     "text": [
      "[('name', 'asif'), ('age', '33'), ('father-name', 'bilal'), ('city', 'lahore'), ('pakistan', {'city1': 'pishawer', 'city2': 'lahore', 'city3': 'karachi'})]\n"
     ]
    }
   ],
   "source": [
    "dictionary={\"name\":'asif',\"age\":'33',\"father-name\":\"bilal\",\"city\":'lahore','pakistan':{\"city1\":\"pishawer\",\"city2\":\"lahore\",\"city3\":\"karachi\"}}\n",
    "items= list(dictionary.items())\n",
    "print(items)"
   ]
  },
  {
   "cell_type": "code",
   "execution_count": 29,
   "metadata": {},
   "outputs": [
    {
     "name": "stdout",
     "output_type": "stream",
     "text": [
      "33\n"
     ]
    }
   ],
   "source": [
    "dictionary={\"name\":'asif',\"age\":'33',\"father-name\":\"bilal\",\"city\":'lahore','pakistan':{\"city1\":\"pishawer\",\"city2\":\"lahore\",\"city3\":\"karachi\"}}\n",
    "age= dictionary.pop('age')\n",
    "print(age)"
   ]
  }
 ],
 "metadata": {
  "kernelspec": {
   "display_name": "Python 3",
   "language": "python",
   "name": "python3"
  },
  "language_info": {
   "codemirror_mode": {
    "name": "ipython",
    "version": 3
   },
   "file_extension": ".py",
   "mimetype": "text/x-python",
   "name": "python",
   "nbconvert_exporter": "python",
   "pygments_lexer": "ipython3",
   "version": "3.12.4"
  }
 },
 "nbformat": 4,
 "nbformat_minor": 2
}
